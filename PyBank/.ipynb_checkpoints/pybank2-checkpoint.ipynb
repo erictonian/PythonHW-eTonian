{
 "cells": [
  {
   "cell_type": "code",
   "execution_count": 9,
   "metadata": {},
   "outputs": [
    {
     "name": "stdout",
     "output_type": "stream",
     "text": [
      "Total Sum: 38382578\n",
      "Greatest Increase: 1170593\n",
      "Greatest Decrease: -1196225\n"
     ]
    }
   ],
   "source": [
    "import csv\n",
    "pybank = \"/Users/erictonian/Desktop/PythonHW-eTonian/Instructions/PyBank/Resources/budget_data.csv\"\n",
    "\n",
    "def month_sum(pybank):\n",
    "    month_sum = sum(1 for row in reader)\n",
    "    print(f\"Total Months: {month_sum}\")\n",
    "    \n",
    "def total_sum(pybank):\n",
    "    total_sum = sum(int(row[1]) for row in reader)\n",
    "    print(f\"Total Sum: {total_sum}\")\n",
    "\n",
    "# def average_sum()\n",
    "    \n",
    "#     average_sum =\n",
    "#     print(f\"Average Change: {average_sum}\")\n",
    "\n",
    "def max_val(pybank):\n",
    "    max_val = max(int(row[1]) for row in reader)\n",
    "#     max_month =\n",
    "    print(f\"Greatest Increase: {max_val}\")\n",
    "\n",
    "def min_val(pybank): \n",
    "    min_val = min(int(row[1]) for row in reader)\n",
    "#     min_month =\n",
    "    print(f\"Greatest Decrease: {min_val}\")\n",
    "    \n",
    "with open(pybank, 'r') as csvfile:\n",
    "    reader = csv.reader(csvfile, delimiter=',')\n",
    "    for row in reader:\n",
    "        total_sum(pybank)\n",
    "with open(pybank, 'r') as csvfile:\n",
    "    reader = csv.reader(csvfile, delimiter=',')\n",
    "    for row in reader:\n",
    "        month_sum(pybank)\n",
    "with open(pybank, 'r') as csvfile:\n",
    "    reader = csv.reader(csvfile, delimiter=',')\n",
    "    for row in reader:\n",
    "        max_val(pybank)\n",
    "with open(pybank, 'r') as csvfile:\n",
    "    reader = csv.reader(csvfile, delimiter=',')\n",
    "    for row in reader:\n",
    "        min_val(pybank)"
   ]
  },
  {
   "cell_type": "code",
   "execution_count": null,
   "metadata": {},
   "outputs": [],
   "source": []
  }
 ],
 "metadata": {
  "kernelspec": {
   "display_name": "Python [conda env:PythonData]",
   "language": "python",
   "name": "pythondata"
  },
  "language_info": {
   "codemirror_mode": {
    "name": "ipython",
    "version": 3
   },
   "file_extension": ".py",
   "mimetype": "text/x-python",
   "name": "python",
   "nbconvert_exporter": "python",
   "pygments_lexer": "ipython3",
   "version": "3.7.1"
  }
 },
 "nbformat": 4,
 "nbformat_minor": 2
}
