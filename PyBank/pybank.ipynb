{
 "cells": [
  {
   "cell_type": "code",
   "execution_count": 11,
   "metadata": {},
   "outputs": [
    {
     "name": "stdout",
     "output_type": "stream",
     "text": [
      "Total Months: 86\n",
      "Total Sum: $38382578.00\n",
      "Average Change: $-2315.12\n",
      "Greatest Increase in Profits: Feb-2012 ($1170593.00)\n",
      "Greatest Decrease in Profits: Sep-2013 ($-1196225.00)\n"
     ]
    },
    {
     "data": {
      "text/plain": [
       "<function TextIOWrapper.close()>"
      ]
     },
     "execution_count": 11,
     "metadata": {},
     "output_type": "execute_result"
    }
   ],
   "source": [
    "import csv\n",
    "\n",
    "pybank = \"budget_data.csv\"\n",
    "\n",
    "with open(pybank, 'r') as csvfile:\n",
    "    csvreader = csv.reader(csvfile, delimiter=',')\n",
    "    for row in csvreader:\n",
    "        count = sum(1 for row in csvreader)\n",
    "    \n",
    "with open(pybank, 'r') as csvfile:\n",
    "    csvreader = csv.reader(csvfile, delimiter=',')\n",
    "    for row in csvreader:\n",
    "        total_sum = sum(int(row[1]) for row in csvreader)\n",
    "        \n",
    "rows = []\n",
    "rows_stagger = []\n",
    "\n",
    "with open(pybank, 'r', newline='') as csvfile:\n",
    "    csvreader = csv.reader(csvfile, delimiter=',')\n",
    "    next(csvfile)\n",
    "    for row in csvreader:\n",
    "        rows.append(int(row[1]))\n",
    "with open(pybank, 'r', newline='') as csvfile:\n",
    "    csvreader = csv.reader(csvfile, delimiter=',')\n",
    "    next(csvfile)\n",
    "    next(csvfile)\n",
    "    for row in csvreader:\n",
    "        rows_stagger.append(int(row[1]))\n",
    "        \n",
    "dfrows = [x1-x2 for (x1,x2) in zip(rows_stagger, rows)]\n",
    "dfrows_avg = (sum(dfrows))/(count -1)\n",
    "        \n",
    "with open(pybank, 'r') as csvfile:\n",
    "    csvreader = csv.reader(csvfile, delimiter=',')\n",
    "    for row in csvreader:\n",
    "        max_val = max(int(row[1]) for row in csvreader)\n",
    "\n",
    "with open(pybank, 'r') as csvfile:\n",
    "    csvreader = csv.reader(csvfile, delimiter=',')\n",
    "    for row in csvreader:\n",
    "        max_month = [str(row[0]) for row in csvreader if int(row[1]) == max_val]\n",
    "        \n",
    "with open(pybank, 'r') as csvfile:\n",
    "    csvreader = csv.reader(csvfile, delimiter=',')\n",
    "    for row in csvreader:\n",
    "        min_val = min(int(row[1]) for row in csvreader)\n",
    "\n",
    "with open(pybank, 'r') as csvfile:\n",
    "    csvreader = csv.reader(csvfile, delimiter=',')\n",
    "    for row in csvreader:\n",
    "        min_month = [str(row[0]) for row in csvreader if int(row[1]) == min_val]\n",
    "\n",
    "print(f\"Total Months: {count}\")\n",
    "print(f\"Total Sum: ${total_sum}.00\")\n",
    "print(f\"Average Change: ${round(dfrows_avg, 2)}\")\n",
    "print(f\"Greatest Increase in Profits: {max_month[0]} (${max_val}.00)\")\n",
    "print(f\"Greatest Decrease in Profits: {min_month[0]} (${min_val}.00)\")\n",
    "\n",
    "f = open(\"pybank_results.txt\", 'w')\n",
    "f.write(f\"Total Months: {count}\\n\")\n",
    "\n",
    "f = open(\"pybank_results.txt\", 'a')\n",
    "f.write(f\"Total Sum: ${total_sum}.00\\n\")\n",
    "\n",
    "f = open(\"pybank_results.txt\", 'a')\n",
    "f.write(f\"Average Change: ${round(dfrows_avg, 2)}\\n\")\n",
    "\n",
    "f = open(\"pybank_results.txt\", 'a')\n",
    "f.write(f\"Greatest Increase in Profits: {max_month[0]} (${max_val}.00)\\n\")\n",
    "\n",
    "f = open(\"pybank_results.txt\", 'a')\n",
    "f.write(f\"Greatest Decrease in Profits: {min_month[0]} (${min_val}.00)\\n\")\n",
    "\n",
    "f = open(\"pybank_results.txt\", 'a')\n",
    "f.write(\"End Results\")\n",
    "\n",
    "f.close"
   ]
  },
  {
   "cell_type": "code",
   "execution_count": null,
   "metadata": {},
   "outputs": [],
   "source": []
  }
 ],
 "metadata": {
  "kernelspec": {
   "display_name": "Python [conda env:PythonData]",
   "language": "python",
   "name": "pythondata"
  },
  "language_info": {
   "codemirror_mode": {
    "name": "ipython",
    "version": 3
   },
   "file_extension": ".py",
   "mimetype": "text/x-python",
   "name": "python",
   "nbconvert_exporter": "python",
   "pygments_lexer": "ipython3",
   "version": "3.7.1"
  }
 },
 "nbformat": 4,
 "nbformat_minor": 2
}
